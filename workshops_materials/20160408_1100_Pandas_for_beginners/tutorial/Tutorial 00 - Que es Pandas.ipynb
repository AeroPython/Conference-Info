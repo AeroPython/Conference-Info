{
 "cells": [
  {
   "cell_type": "markdown",
   "metadata": {},
   "source": [
    "# ¿Necesitas `pandas`?"
   ]
  },
  {
   "cell_type": "markdown",
   "metadata": {},
   "source": [
    "* ¿Necesitas importar datos a Python?\n",
    "\n",
    "\n",
    "* ¿Los datos no están limpios?\n",
    "\n",
    "\n",
    "* ¿Necesitas explorar los datos y aumentar tu conocimiento sobre los mismos de forma rápida y simple?\n",
    "\n",
    "\n",
    "* ¿Necesitas procesar tus datos y prepararlos para análisis posteriores con statsmodels, scikit-learn,..., otros?\n",
    "\n",
    "\n",
    "* ¿...?"
   ]
  },
  {
   "cell_type": "markdown",
   "metadata": {},
   "source": [
    "## Si respondes afirmativamente a cualquiera de las anteriores preguntas y no tienes mucha idea sobre `pandas` estás en el sitio adecuado..."
   ]
  },
  {
   "cell_type": "markdown",
   "metadata": {},
   "source": [
    "# ¿Qué es `pandas`?"
   ]
  },
  {
   "cell_type": "markdown",
   "metadata": {},
   "source": [
    "Para cualquier trabajo intensivo de datos `pandas` se ha convertido en la librería esencial dentro del mundo Python.\n",
    "\n",
    "> Se podría ver a `pandas` como numpy arrays con esteroides, esto es, numpy arrays con etiquetas para columnas y filas y soporte mejorado para trabajo con datos heterogéneos.\n",
    "    \n",
    "Pero lo anterior es una definición un tanto superficial. El diablo está en los detalles!!!\n",
    "\n",
    "## Características interesantes:\n",
    "\n",
    "\n",
    "* Entrada/Salida para un montón de formatos de datos diferentes de forma rápida, simple y flexible (csv, json, sql, HDF5, HTML,...).\n",
    "\n",
    "\n",
    "* Herramientas para trabajar con datos *missing* (`.dropna()`, `pd.isnull()`).\n",
    "\n",
    "\n",
    "* Unión y combinación (`concat`, `join`, `merge`).\n",
    "\n",
    "\n",
    "* Agrupamiento: funcionalidad `groupby`.\n",
    "\n",
    "\n",
    "* Reshaping (`stack`, `unstack`, `pivot`, `pivot_table`).\n",
    "\n",
    "\n",
    "* Potente manipulación de series de datos (*resampling*, *timezones*, ...).\n",
    "\n",
    "\n",
    "* Graficado sencillo."
   ]
  },
  {
   "cell_type": "markdown",
   "metadata": {},
   "source": [
    "# ¿Qué vamos a ver?"
   ]
  },
  {
   "cell_type": "markdown",
   "metadata": {},
   "source": [
    "* Tipos de estructuras de datos con `pandas`.\n",
    "\n",
    "\n",
    "* Lectura/escritura de datos.\n",
    "\n",
    "\n",
    "* Obtener información de la estructura de datos, algunas operaciones estadísticas, establecimiento de los índices, trabajo con valores perdidos/no disponibles. Trabajo con fechas.\n",
    "\n",
    "\n",
    "* Selección e indexación de datos.\n",
    "\n",
    "\n",
    "* Trabajo con datos perdidos, no disponibles,...\n",
    "\n",
    "\n",
    "* Combinación, agrupamiento, agregación,...\n",
    "\n",
    "\n",
    "* Graficado de resultados."
   ]
  }
 ],
 "metadata": {
  "kernelspec": {
   "display_name": "Python 3",
   "language": "python",
   "name": "python3"
  },
  "language_info": {
   "codemirror_mode": {
    "name": "ipython",
    "version": 3
   },
   "file_extension": ".py",
   "mimetype": "text/x-python",
   "name": "python",
   "nbconvert_exporter": "python",
   "pygments_lexer": "ipython3",
   "version": "3.5.1"
  }
 },
 "nbformat": 4,
 "nbformat_minor": 0
}
