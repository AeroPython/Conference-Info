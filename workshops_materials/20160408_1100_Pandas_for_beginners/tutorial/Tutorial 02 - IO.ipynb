{
 "cells": [
  {
   "cell_type": "markdown",
   "metadata": {},
   "source": [
    "En `pandas` tenemos varias posibilidades para leer datos y similares posibilidades para escribirlos."
   ]
  },
  {
   "cell_type": "markdown",
   "metadata": {},
   "source": [
    "# Leamos unos datos de viento"
   ]
  },
  {
   "cell_type": "markdown",
   "metadata": {},
   "source": [
    "En la carpeta *Datos* tenemos un fichero que se llama *mast.txt* con el siguiente formato:"
   ]
  },
  {
   "cell_type": "markdown",
   "metadata": {},
   "source": [
    "    130904 0000  2.21  2.58 113.5   999.99 999.99  99.99 9999.99 9999.99  0.11\n",
    "    130904 0010  1.69  2.31  99.9   999.99 999.99  99.99 9999.99 9999.99  0.35\n",
    "    130904 0020  1.28  1.50  96.0   999.99 999.99  99.99 9999.99 9999.99  0.08\n",
    "    130904 0030  1.94  2.39  99.2   999.99 999.99  99.99 9999.99 9999.99  0.26\n",
    "    130904 0040  2.17  2.67 108.4   999.99 999.99  99.99 9999.99 9999.99  0.23\n",
    "    130904 0050  2.25  2.89 105.0   999.99 999.99  99.99 9999.99 9999.99  0.35\n",
    "    ...\n",
    "\n",
    "Lo podemos leer de la siguiente forma:"
   ]
  },
  {
   "cell_type": "code",
   "execution_count": 1,
   "metadata": {
    "collapsed": false
   },
   "outputs": [],
   "source": [
    "# primero hacemos los imports de turno\n",
    "import os\n",
    "\n",
    "import pandas as pd\n",
    "import numpy as np\n",
    "import matplotlib.pyplot as plt\n",
    "from IPython.display import display\n",
    "%matplotlib inline"
   ]
  },
  {
   "cell_type": "code",
   "execution_count": 2,
   "metadata": {
    "collapsed": false
   },
   "outputs": [
    {
     "data": {
      "text/html": [
       "<div>\n",
       "<table border=\"1\" class=\"dataframe\">\n",
       "  <thead>\n",
       "    <tr style=\"text-align: right;\">\n",
       "      <th></th>\n",
       "      <th>130904 0000  2.21  2.58 113.5   999.99 999.99  99.99 9999.99 9999.99  0.11</th>\n",
       "    </tr>\n",
       "  </thead>\n",
       "  <tbody>\n",
       "    <tr>\n",
       "      <th>0</th>\n",
       "      <td>130904 0010  1.69  2.31  99.9   999.99 999.99 ...</td>\n",
       "    </tr>\n",
       "    <tr>\n",
       "      <th>1</th>\n",
       "      <td>130904 0020  1.28  1.50  96.0   999.99 999.99 ...</td>\n",
       "    </tr>\n",
       "    <tr>\n",
       "      <th>2</th>\n",
       "      <td>130904 0030  1.94  2.39  99.2   999.99 999.99 ...</td>\n",
       "    </tr>\n",
       "  </tbody>\n",
       "</table>\n",
       "</div>"
      ],
      "text/plain": [
       "  130904 0000  2.21  2.58 113.5   999.99 999.99  99.99 9999.99 9999.99  0.11\n",
       "0  130904 0010  1.69  2.31  99.9   999.99 999.99 ...                        \n",
       "1  130904 0020  1.28  1.50  96.0   999.99 999.99 ...                        \n",
       "2  130904 0030  1.94  2.39  99.2   999.99 999.99 ...                        "
      ]
     },
     "execution_count": 2,
     "metadata": {},
     "output_type": "execute_result"
    }
   ],
   "source": [
    "ipath = os.path.join('Datos', 'mast.txt')\n",
    "wind = pd.read_csv(ipath)\n",
    "wind.head(3)"
   ]
  },
  {
   "cell_type": "code",
   "execution_count": 4,
   "metadata": {
    "collapsed": false
   },
   "outputs": [
    {
     "name": "stderr",
     "output_type": "stream",
     "text": [
      "/home/tornado/miniconda3/envs/sciconda/lib/python3.5/site-packages/ipykernel/__main__.py:1: ParserWarning: Falling back to the 'python' engine because the 'c' engine does not support regex separators; you can avoid this warning by specifying engine='python'.\n",
      "  if __name__ == '__main__':\n",
      "/home/tornado/miniconda3/envs/sciconda/lib/python3.5/site-packages/pandas/io/parsers.py:1588: FutureWarning: split() requires a non-empty pattern match.\n",
      "  yield pat.split(line.strip())\n",
      "/home/tornado/miniconda3/envs/sciconda/lib/python3.5/site-packages/pandas/io/parsers.py:1590: FutureWarning: split() requires a non-empty pattern match.\n",
      "  yield pat.split(line.strip())\n"
     ]
    },
    {
     "data": {
      "text/html": [
       "<div>\n",
       "<table border=\"1\" class=\"dataframe\">\n",
       "  <thead>\n",
       "    <tr style=\"text-align: right;\">\n",
       "      <th></th>\n",
       "      <th>130904</th>\n",
       "      <th>0000</th>\n",
       "      <th>2.21</th>\n",
       "      <th>2.58</th>\n",
       "      <th>113.5</th>\n",
       "      <th>999.99</th>\n",
       "      <th>999.99.1</th>\n",
       "      <th>99.99</th>\n",
       "      <th>9999.99</th>\n",
       "      <th>9999.99.1</th>\n",
       "      <th>0.11</th>\n",
       "    </tr>\n",
       "  </thead>\n",
       "  <tbody>\n",
       "    <tr>\n",
       "      <th>0</th>\n",
       "      <td>130904</td>\n",
       "      <td>10</td>\n",
       "      <td>1.69</td>\n",
       "      <td>2.31</td>\n",
       "      <td>99.9</td>\n",
       "      <td>999.99</td>\n",
       "      <td>999.99</td>\n",
       "      <td>99.99</td>\n",
       "      <td>9999.99</td>\n",
       "      <td>9999.99</td>\n",
       "      <td>0.35</td>\n",
       "    </tr>\n",
       "    <tr>\n",
       "      <th>1</th>\n",
       "      <td>130904</td>\n",
       "      <td>20</td>\n",
       "      <td>1.28</td>\n",
       "      <td>1.50</td>\n",
       "      <td>96.0</td>\n",
       "      <td>999.99</td>\n",
       "      <td>999.99</td>\n",
       "      <td>99.99</td>\n",
       "      <td>9999.99</td>\n",
       "      <td>9999.99</td>\n",
       "      <td>0.08</td>\n",
       "    </tr>\n",
       "    <tr>\n",
       "      <th>2</th>\n",
       "      <td>130904</td>\n",
       "      <td>30</td>\n",
       "      <td>1.94</td>\n",
       "      <td>2.39</td>\n",
       "      <td>99.2</td>\n",
       "      <td>999.99</td>\n",
       "      <td>999.99</td>\n",
       "      <td>99.99</td>\n",
       "      <td>9999.99</td>\n",
       "      <td>9999.99</td>\n",
       "      <td>0.26</td>\n",
       "    </tr>\n",
       "  </tbody>\n",
       "</table>\n",
       "</div>"
      ],
      "text/plain": [
       "   130904  0000  2.21  2.58  113.5  999.99  999.99.1  99.99  9999.99  \\\n",
       "0  130904    10  1.69  2.31   99.9  999.99    999.99  99.99  9999.99   \n",
       "1  130904    20  1.28  1.50   96.0  999.99    999.99  99.99  9999.99   \n",
       "2  130904    30  1.94  2.39   99.2  999.99    999.99  99.99  9999.99   \n",
       "\n",
       "   9999.99.1  0.11  \n",
       "0    9999.99  0.35  \n",
       "1    9999.99  0.08  \n",
       "2    9999.99  0.26  "
      ]
     },
     "execution_count": 4,
     "metadata": {},
     "output_type": "execute_result"
    }
   ],
   "source": [
    "wind = pd.read_csv(ipath, sep = \"\\s*\")\n",
    "# Cuando trabajamos con texto separado por espacios podemos usar la keyword delim_whitespace:\n",
    "# wind = pd.read_csv(path, delim_whitespace = True)\n",
    "wind.head(3)"
   ]
  },
  {
   "cell_type": "code",
   "execution_count": 5,
   "metadata": {
    "collapsed": false
   },
   "outputs": [
    {
     "name": "stderr",
     "output_type": "stream",
     "text": [
      "/home/tornado/miniconda3/envs/sciconda/lib/python3.5/site-packages/ipykernel/__main__.py:4: ParserWarning: Falling back to the 'python' engine because the 'c' engine does not support regex separators; you can avoid this warning by specifying engine='python'.\n",
      "/home/tornado/miniconda3/envs/sciconda/lib/python3.5/site-packages/pandas/io/parsers.py:1588: FutureWarning: split() requires a non-empty pattern match.\n",
      "  yield pat.split(line.strip())\n",
      "/home/tornado/miniconda3/envs/sciconda/lib/python3.5/site-packages/pandas/io/parsers.py:1590: FutureWarning: split() requires a non-empty pattern match.\n",
      "  yield pat.split(line.strip())\n"
     ]
    },
    {
     "data": {
      "text/html": [
       "<div>\n",
       "<table border=\"1\" class=\"dataframe\">\n",
       "  <thead>\n",
       "    <tr style=\"text-align: right;\">\n",
       "      <th></th>\n",
       "      <th>Date</th>\n",
       "      <th>time</th>\n",
       "      <th>wspd</th>\n",
       "      <th>wspd_max</th>\n",
       "      <th>wdir</th>\n",
       "      <th>x1</th>\n",
       "      <th>x2</th>\n",
       "      <th>x3</th>\n",
       "      <th>x4</th>\n",
       "      <th>x5</th>\n",
       "      <th>wspd_std</th>\n",
       "    </tr>\n",
       "  </thead>\n",
       "  <tbody>\n",
       "    <tr>\n",
       "      <th>0</th>\n",
       "      <td>130904</td>\n",
       "      <td>0</td>\n",
       "      <td>2.21</td>\n",
       "      <td>2.58</td>\n",
       "      <td>113.5</td>\n",
       "      <td>999.99</td>\n",
       "      <td>999.99</td>\n",
       "      <td>99.99</td>\n",
       "      <td>9999.99</td>\n",
       "      <td>9999.99</td>\n",
       "      <td>0.11</td>\n",
       "    </tr>\n",
       "    <tr>\n",
       "      <th>1</th>\n",
       "      <td>130904</td>\n",
       "      <td>10</td>\n",
       "      <td>1.69</td>\n",
       "      <td>2.31</td>\n",
       "      <td>99.9</td>\n",
       "      <td>999.99</td>\n",
       "      <td>999.99</td>\n",
       "      <td>99.99</td>\n",
       "      <td>9999.99</td>\n",
       "      <td>9999.99</td>\n",
       "      <td>0.35</td>\n",
       "    </tr>\n",
       "    <tr>\n",
       "      <th>2</th>\n",
       "      <td>130904</td>\n",
       "      <td>20</td>\n",
       "      <td>1.28</td>\n",
       "      <td>1.50</td>\n",
       "      <td>96.0</td>\n",
       "      <td>999.99</td>\n",
       "      <td>999.99</td>\n",
       "      <td>99.99</td>\n",
       "      <td>9999.99</td>\n",
       "      <td>9999.99</td>\n",
       "      <td>0.08</td>\n",
       "    </tr>\n",
       "  </tbody>\n",
       "</table>\n",
       "</div>"
      ],
      "text/plain": [
       "     Date  time  wspd  wspd_max   wdir      x1      x2     x3       x4  \\\n",
       "0  130904     0  2.21      2.58  113.5  999.99  999.99  99.99  9999.99   \n",
       "1  130904    10  1.69      2.31   99.9  999.99  999.99  99.99  9999.99   \n",
       "2  130904    20  1.28      1.50   96.0  999.99  999.99  99.99  9999.99   \n",
       "\n",
       "        x5  wspd_std  \n",
       "0  9999.99      0.11  \n",
       "1  9999.99      0.35  \n",
       "2  9999.99      0.08  "
      ]
     },
     "execution_count": 5,
     "metadata": {},
     "output_type": "execute_result"
    }
   ],
   "source": [
    "cols = ['Date', 'time', 'wspd', 'wspd_max', 'wdir',\n",
    "        'x1', 'x2', 'x3', 'x4', 'x5', \n",
    "        'wspd_std']\n",
    "wind = pd.read_csv(ipath, sep = \"\\s*\", names = cols)\n",
    "wind.head(3)"
   ]
  },
  {
   "cell_type": "code",
   "execution_count": 6,
   "metadata": {
    "collapsed": false
   },
   "outputs": [
    {
     "name": "stderr",
     "output_type": "stream",
     "text": [
      "/home/tornado/miniconda3/envs/sciconda/lib/python3.5/site-packages/ipykernel/__main__.py:5: ParserWarning: Falling back to the 'python' engine because the 'c' engine does not support regex separators; you can avoid this warning by specifying engine='python'.\n",
      "/home/tornado/miniconda3/envs/sciconda/lib/python3.5/site-packages/pandas/io/parsers.py:1588: FutureWarning: split() requires a non-empty pattern match.\n",
      "  yield pat.split(line.strip())\n",
      "/home/tornado/miniconda3/envs/sciconda/lib/python3.5/site-packages/pandas/io/parsers.py:1590: FutureWarning: split() requires a non-empty pattern match.\n",
      "  yield pat.split(line.strip())\n"
     ]
    },
    {
     "data": {
      "text/html": [
       "<div>\n",
       "<table border=\"1\" class=\"dataframe\">\n",
       "  <thead>\n",
       "    <tr style=\"text-align: right;\">\n",
       "      <th></th>\n",
       "      <th>Date_time</th>\n",
       "      <th>wspd</th>\n",
       "      <th>wspd_max</th>\n",
       "      <th>wdir</th>\n",
       "      <th>x1</th>\n",
       "      <th>x2</th>\n",
       "      <th>x3</th>\n",
       "      <th>x4</th>\n",
       "      <th>x5</th>\n",
       "      <th>wspd_std</th>\n",
       "    </tr>\n",
       "  </thead>\n",
       "  <tbody>\n",
       "    <tr>\n",
       "      <th>0</th>\n",
       "      <td>2004-09-13 00:00:00</td>\n",
       "      <td>2.21</td>\n",
       "      <td>2.58</td>\n",
       "      <td>113.5</td>\n",
       "      <td>999.99</td>\n",
       "      <td>999.99</td>\n",
       "      <td>99.99</td>\n",
       "      <td>9999.99</td>\n",
       "      <td>9999.99</td>\n",
       "      <td>0.11</td>\n",
       "    </tr>\n",
       "    <tr>\n",
       "      <th>1</th>\n",
       "      <td>2004-09-13 00:10:00</td>\n",
       "      <td>1.69</td>\n",
       "      <td>2.31</td>\n",
       "      <td>99.9</td>\n",
       "      <td>999.99</td>\n",
       "      <td>999.99</td>\n",
       "      <td>99.99</td>\n",
       "      <td>9999.99</td>\n",
       "      <td>9999.99</td>\n",
       "      <td>0.35</td>\n",
       "    </tr>\n",
       "    <tr>\n",
       "      <th>2</th>\n",
       "      <td>2004-09-13 00:20:00</td>\n",
       "      <td>1.28</td>\n",
       "      <td>1.50</td>\n",
       "      <td>96.0</td>\n",
       "      <td>999.99</td>\n",
       "      <td>999.99</td>\n",
       "      <td>99.99</td>\n",
       "      <td>9999.99</td>\n",
       "      <td>9999.99</td>\n",
       "      <td>0.08</td>\n",
       "    </tr>\n",
       "  </tbody>\n",
       "</table>\n",
       "</div>"
      ],
      "text/plain": [
       "            Date_time  wspd  wspd_max   wdir      x1      x2     x3       x4  \\\n",
       "0 2004-09-13 00:00:00  2.21      2.58  113.5  999.99  999.99  99.99  9999.99   \n",
       "1 2004-09-13 00:10:00  1.69      2.31   99.9  999.99  999.99  99.99  9999.99   \n",
       "2 2004-09-13 00:20:00  1.28      1.50   96.0  999.99  999.99  99.99  9999.99   \n",
       "\n",
       "        x5  wspd_std  \n",
       "0  9999.99      0.11  \n",
       "1  9999.99      0.35  \n",
       "2  9999.99      0.08  "
      ]
     },
     "execution_count": 6,
     "metadata": {},
     "output_type": "execute_result"
    }
   ],
   "source": [
    "cols = ['Date', 'time', 'wspd', 'wspd_max', 'wdir',\n",
    "        'x1', 'x2', 'x3', 'x4', 'x5', \n",
    "        'wspd_std']\n",
    "wind = pd.read_csv(ipath, sep = \"\\s*\", names = cols,\n",
    "                   parse_dates = [[0, 1]])\n",
    "wind.head(3)"
   ]
  },
  {
   "cell_type": "code",
   "execution_count": 7,
   "metadata": {
    "collapsed": false
   },
   "outputs": [
    {
     "name": "stderr",
     "output_type": "stream",
     "text": [
      "/home/tornado/miniconda3/envs/sciconda/lib/python3.5/site-packages/ipykernel/__main__.py:5: ParserWarning: Falling back to the 'python' engine because the 'c' engine does not support regex separators; you can avoid this warning by specifying engine='python'.\n",
      "/home/tornado/miniconda3/envs/sciconda/lib/python3.5/site-packages/pandas/io/parsers.py:1588: FutureWarning: split() requires a non-empty pattern match.\n",
      "  yield pat.split(line.strip())\n",
      "/home/tornado/miniconda3/envs/sciconda/lib/python3.5/site-packages/pandas/io/parsers.py:1590: FutureWarning: split() requires a non-empty pattern match.\n",
      "  yield pat.split(line.strip())\n"
     ]
    },
    {
     "data": {
      "text/html": [
       "<div>\n",
       "<table border=\"1\" class=\"dataframe\">\n",
       "  <thead>\n",
       "    <tr style=\"text-align: right;\">\n",
       "      <th></th>\n",
       "      <th>wspd</th>\n",
       "      <th>wspd_max</th>\n",
       "      <th>wdir</th>\n",
       "      <th>x1</th>\n",
       "      <th>x2</th>\n",
       "      <th>x3</th>\n",
       "      <th>x4</th>\n",
       "      <th>x5</th>\n",
       "      <th>wspd_std</th>\n",
       "    </tr>\n",
       "    <tr>\n",
       "      <th>Date_time</th>\n",
       "      <th></th>\n",
       "      <th></th>\n",
       "      <th></th>\n",
       "      <th></th>\n",
       "      <th></th>\n",
       "      <th></th>\n",
       "      <th></th>\n",
       "      <th></th>\n",
       "      <th></th>\n",
       "    </tr>\n",
       "  </thead>\n",
       "  <tbody>\n",
       "    <tr>\n",
       "      <th>2004-09-13 00:00:00</th>\n",
       "      <td>2.21</td>\n",
       "      <td>2.58</td>\n",
       "      <td>113.5</td>\n",
       "      <td>999.99</td>\n",
       "      <td>999.99</td>\n",
       "      <td>99.99</td>\n",
       "      <td>9999.99</td>\n",
       "      <td>9999.99</td>\n",
       "      <td>0.11</td>\n",
       "    </tr>\n",
       "    <tr>\n",
       "      <th>2004-09-13 00:10:00</th>\n",
       "      <td>1.69</td>\n",
       "      <td>2.31</td>\n",
       "      <td>99.9</td>\n",
       "      <td>999.99</td>\n",
       "      <td>999.99</td>\n",
       "      <td>99.99</td>\n",
       "      <td>9999.99</td>\n",
       "      <td>9999.99</td>\n",
       "      <td>0.35</td>\n",
       "    </tr>\n",
       "    <tr>\n",
       "      <th>2004-09-13 00:20:00</th>\n",
       "      <td>1.28</td>\n",
       "      <td>1.50</td>\n",
       "      <td>96.0</td>\n",
       "      <td>999.99</td>\n",
       "      <td>999.99</td>\n",
       "      <td>99.99</td>\n",
       "      <td>9999.99</td>\n",
       "      <td>9999.99</td>\n",
       "      <td>0.08</td>\n",
       "    </tr>\n",
       "  </tbody>\n",
       "</table>\n",
       "</div>"
      ],
      "text/plain": [
       "                     wspd  wspd_max   wdir      x1      x2     x3       x4  \\\n",
       "Date_time                                                                    \n",
       "2004-09-13 00:00:00  2.21      2.58  113.5  999.99  999.99  99.99  9999.99   \n",
       "2004-09-13 00:10:00  1.69      2.31   99.9  999.99  999.99  99.99  9999.99   \n",
       "2004-09-13 00:20:00  1.28      1.50   96.0  999.99  999.99  99.99  9999.99   \n",
       "\n",
       "                          x5  wspd_std  \n",
       "Date_time                               \n",
       "2004-09-13 00:00:00  9999.99      0.11  \n",
       "2004-09-13 00:10:00  9999.99      0.35  \n",
       "2004-09-13 00:20:00  9999.99      0.08  "
      ]
     },
     "execution_count": 7,
     "metadata": {},
     "output_type": "execute_result"
    }
   ],
   "source": [
    "cols = ['Date', 'time', 'wspd', 'wspd_max', 'wdir',\n",
    "        'x1', 'x2', 'x3', 'x4', 'x5', \n",
    "        'wspd_std']\n",
    "wind = pd.read_csv(ipath, sep = \"\\s*\", names = cols,\n",
    "                   parse_dates = [[0, 1]], index_col = 0)\n",
    "wind.head(3)"
   ]
  },
  {
   "cell_type": "code",
   "execution_count": 8,
   "metadata": {
    "collapsed": false
   },
   "outputs": [
    {
     "name": "stderr",
     "output_type": "stream",
     "text": [
      "/home/tornado/miniconda3/envs/sciconda/lib/python3.5/site-packages/ipykernel/__main__.py:5: ParserWarning: Falling back to the 'python' engine because the 'c' engine does not support regex separators; you can avoid this warning by specifying engine='python'.\n",
      "/home/tornado/miniconda3/envs/sciconda/lib/python3.5/site-packages/pandas/io/parsers.py:1588: FutureWarning: split() requires a non-empty pattern match.\n",
      "  yield pat.split(line.strip())\n",
      "/home/tornado/miniconda3/envs/sciconda/lib/python3.5/site-packages/pandas/io/parsers.py:1590: FutureWarning: split() requires a non-empty pattern match.\n",
      "  yield pat.split(line.strip())\n"
     ]
    },
    {
     "data": {
      "text/html": [
       "<div>\n",
       "<table border=\"1\" class=\"dataframe\">\n",
       "  <thead>\n",
       "    <tr style=\"text-align: right;\">\n",
       "      <th></th>\n",
       "      <th>wspd</th>\n",
       "      <th>wspd_max</th>\n",
       "      <th>wdir</th>\n",
       "      <th>x1</th>\n",
       "      <th>x2</th>\n",
       "      <th>x3</th>\n",
       "      <th>x4</th>\n",
       "      <th>x5</th>\n",
       "      <th>wspd_std</th>\n",
       "    </tr>\n",
       "    <tr>\n",
       "      <th>timestamp</th>\n",
       "      <th></th>\n",
       "      <th></th>\n",
       "      <th></th>\n",
       "      <th></th>\n",
       "      <th></th>\n",
       "      <th></th>\n",
       "      <th></th>\n",
       "      <th></th>\n",
       "      <th></th>\n",
       "    </tr>\n",
       "  </thead>\n",
       "  <tbody>\n",
       "    <tr>\n",
       "      <th>2004-09-13 00:00:00</th>\n",
       "      <td>2.21</td>\n",
       "      <td>2.58</td>\n",
       "      <td>113.5</td>\n",
       "      <td>999.99</td>\n",
       "      <td>999.99</td>\n",
       "      <td>99.99</td>\n",
       "      <td>9999.99</td>\n",
       "      <td>9999.99</td>\n",
       "      <td>0.11</td>\n",
       "    </tr>\n",
       "    <tr>\n",
       "      <th>2004-09-13 00:10:00</th>\n",
       "      <td>1.69</td>\n",
       "      <td>2.31</td>\n",
       "      <td>99.9</td>\n",
       "      <td>999.99</td>\n",
       "      <td>999.99</td>\n",
       "      <td>99.99</td>\n",
       "      <td>9999.99</td>\n",
       "      <td>9999.99</td>\n",
       "      <td>0.35</td>\n",
       "    </tr>\n",
       "    <tr>\n",
       "      <th>2004-09-13 00:20:00</th>\n",
       "      <td>1.28</td>\n",
       "      <td>1.50</td>\n",
       "      <td>96.0</td>\n",
       "      <td>999.99</td>\n",
       "      <td>999.99</td>\n",
       "      <td>99.99</td>\n",
       "      <td>9999.99</td>\n",
       "      <td>9999.99</td>\n",
       "      <td>0.08</td>\n",
       "    </tr>\n",
       "  </tbody>\n",
       "</table>\n",
       "</div>"
      ],
      "text/plain": [
       "                     wspd  wspd_max   wdir      x1      x2     x3       x4  \\\n",
       "timestamp                                                                    \n",
       "2004-09-13 00:00:00  2.21      2.58  113.5  999.99  999.99  99.99  9999.99   \n",
       "2004-09-13 00:10:00  1.69      2.31   99.9  999.99  999.99  99.99  9999.99   \n",
       "2004-09-13 00:20:00  1.28      1.50   96.0  999.99  999.99  99.99  9999.99   \n",
       "\n",
       "                          x5  wspd_std  \n",
       "timestamp                               \n",
       "2004-09-13 00:00:00  9999.99      0.11  \n",
       "2004-09-13 00:10:00  9999.99      0.35  \n",
       "2004-09-13 00:20:00  9999.99      0.08  "
      ]
     },
     "execution_count": 8,
     "metadata": {},
     "output_type": "execute_result"
    }
   ],
   "source": [
    "cols = ['Date', 'time', 'wspd', 'wspd_max', 'wdir',\n",
    "        'x1', 'x2', 'x3', 'x4', 'x5', \n",
    "        'wspd_std']\n",
    "wind = pd.read_csv(ipath, sep = \"\\s*\", names = cols,\n",
    "                   parse_dates = {'timestamp': [0, 1]}, index_col = 0)\n",
    "wind.head(3)"
   ]
  },
  {
   "cell_type": "code",
   "execution_count": 9,
   "metadata": {
    "collapsed": false
   },
   "outputs": [
    {
     "name": "stderr",
     "output_type": "stream",
     "text": [
      "/home/tornado/miniconda3/envs/sciconda/lib/python3.5/site-packages/ipykernel/__main__.py:6: ParserWarning: Falling back to the 'python' engine because the 'c' engine does not support regex separators; you can avoid this warning by specifying engine='python'.\n",
      "/home/tornado/miniconda3/envs/sciconda/lib/python3.5/site-packages/pandas/io/parsers.py:1588: FutureWarning: split() requires a non-empty pattern match.\n",
      "  yield pat.split(line.strip())\n",
      "/home/tornado/miniconda3/envs/sciconda/lib/python3.5/site-packages/pandas/io/parsers.py:1590: FutureWarning: split() requires a non-empty pattern match.\n",
      "  yield pat.split(line.strip())\n"
     ]
    },
    {
     "data": {
      "text/html": [
       "<div>\n",
       "<table border=\"1\" class=\"dataframe\">\n",
       "  <thead>\n",
       "    <tr style=\"text-align: right;\">\n",
       "      <th></th>\n",
       "      <th>wspd</th>\n",
       "      <th>wspd_max</th>\n",
       "      <th>wdir</th>\n",
       "      <th>x1</th>\n",
       "      <th>x2</th>\n",
       "      <th>x3</th>\n",
       "      <th>x4</th>\n",
       "      <th>x5</th>\n",
       "      <th>wspd_std</th>\n",
       "    </tr>\n",
       "    <tr>\n",
       "      <th>Timestamp</th>\n",
       "      <th></th>\n",
       "      <th></th>\n",
       "      <th></th>\n",
       "      <th></th>\n",
       "      <th></th>\n",
       "      <th></th>\n",
       "      <th></th>\n",
       "      <th></th>\n",
       "      <th></th>\n",
       "    </tr>\n",
       "  </thead>\n",
       "  <tbody>\n",
       "    <tr>\n",
       "      <th>2004-09-13 00:00:00</th>\n",
       "      <td>2.21</td>\n",
       "      <td>2.58</td>\n",
       "      <td>113.5</td>\n",
       "      <td>999.99</td>\n",
       "      <td>999.99</td>\n",
       "      <td>99.99</td>\n",
       "      <td>9999.99</td>\n",
       "      <td>9999.99</td>\n",
       "      <td>0.11</td>\n",
       "    </tr>\n",
       "    <tr>\n",
       "      <th>2004-09-13 00:10:00</th>\n",
       "      <td>1.69</td>\n",
       "      <td>2.31</td>\n",
       "      <td>99.9</td>\n",
       "      <td>999.99</td>\n",
       "      <td>999.99</td>\n",
       "      <td>99.99</td>\n",
       "      <td>9999.99</td>\n",
       "      <td>9999.99</td>\n",
       "      <td>0.35</td>\n",
       "    </tr>\n",
       "    <tr>\n",
       "      <th>2004-09-13 00:20:00</th>\n",
       "      <td>1.28</td>\n",
       "      <td>1.50</td>\n",
       "      <td>96.0</td>\n",
       "      <td>999.99</td>\n",
       "      <td>999.99</td>\n",
       "      <td>99.99</td>\n",
       "      <td>9999.99</td>\n",
       "      <td>9999.99</td>\n",
       "      <td>0.08</td>\n",
       "    </tr>\n",
       "  </tbody>\n",
       "</table>\n",
       "</div>"
      ],
      "text/plain": [
       "                     wspd  wspd_max   wdir      x1      x2     x3       x4  \\\n",
       "Timestamp                                                                    \n",
       "2004-09-13 00:00:00  2.21      2.58  113.5  999.99  999.99  99.99  9999.99   \n",
       "2004-09-13 00:10:00  1.69      2.31   99.9  999.99  999.99  99.99  9999.99   \n",
       "2004-09-13 00:20:00  1.28      1.50   96.0  999.99  999.99  99.99  9999.99   \n",
       "\n",
       "                          x5  wspd_std  \n",
       "Timestamp                               \n",
       "2004-09-13 00:00:00  9999.99      0.11  \n",
       "2004-09-13 00:10:00  9999.99      0.35  \n",
       "2004-09-13 00:20:00  9999.99      0.08  "
      ]
     },
     "execution_count": 9,
     "metadata": {},
     "output_type": "execute_result"
    }
   ],
   "source": [
    "# The previous code is equivalent to\n",
    "cols = ['Date', 'time', 'wspd', 'wspd_max', 'wdir',\n",
    "        'x1', 'x2', 'x3', 'x4', 'x5', \n",
    "        'wspd_std']\n",
    "wind = pd.read_csv(ipath, sep = \"\\s*\", names = cols,\n",
    "                   parse_dates = [[0, 1]], index_col = 0)\n",
    "wind.index.name = 'Timestamp'\n",
    "wind.head(3)"
   ]
  },
  {
   "cell_type": "code",
   "execution_count": 10,
   "metadata": {
    "collapsed": true
   },
   "outputs": [],
   "source": [
    "# En la anterior celda de código podemos cambiar los 0's y 1's de \n",
    "# parse_dates e index_col por los nombres de las columnas\n",
    "# Probadlo!!!\n"
   ]
  },
  {
   "cell_type": "code",
   "execution_count": 11,
   "metadata": {
    "collapsed": false
   },
   "outputs": [
    {
     "name": "stdout",
     "output_type": "stream",
     "text": [
      "Help on function read_csv in module pandas.io.parsers:\n",
      "\n",
      "read_csv(filepath_or_buffer, sep=',', delimiter=None, header='infer', names=None, index_col=None, usecols=None, squeeze=False, prefix=None, mangle_dupe_cols=True, dtype=None, engine=None, converters=None, true_values=None, false_values=None, skipinitialspace=False, skiprows=None, skipfooter=None, nrows=None, na_values=None, keep_default_na=True, na_filter=True, verbose=False, skip_blank_lines=True, parse_dates=False, infer_datetime_format=False, keep_date_col=False, date_parser=None, dayfirst=False, iterator=False, chunksize=None, compression='infer', thousands=None, decimal=b'.', lineterminator=None, quotechar='\"', quoting=0, escapechar=None, comment=None, encoding=None, dialect=None, tupleize_cols=False, error_bad_lines=True, warn_bad_lines=True, skip_footer=0, doublequote=True, delim_whitespace=False, as_recarray=False, compact_ints=False, use_unsigned=False, low_memory=True, buffer_lines=None, memory_map=False, float_precision=None)\n",
      "    Read CSV (comma-separated) file into DataFrame\n",
      "    \n",
      "    Also supports optionally iterating or breaking of the file\n",
      "    into chunks.\n",
      "    \n",
      "    Additional help can be found in the `online docs for IO Tools\n",
      "    <http://pandas.pydata.org/pandas-docs/stable/io.html>`_.\n",
      "    \n",
      "    Parameters\n",
      "    ----------\n",
      "    filepath_or_buffer : str, pathlib.Path, py._path.local.LocalPath or any object with a read() method (such as a file handle or StringIO)\n",
      "        The string could be a URL. Valid URL schemes include http, ftp, s3, and\n",
      "        file. For file URLs, a host is expected. For instance, a local file could\n",
      "        be file ://localhost/path/to/table.csv\n",
      "    sep : str, default ','\n",
      "        Delimiter to use. If sep is None, will try to automatically determine\n",
      "        this. Regular expressions are accepted and will force use of the python\n",
      "        parsing engine and will ignore quotes in the data.\n",
      "    delimiter : str, default None\n",
      "        Alternative argument name for sep.\n",
      "    header : int or list of ints, default 'infer'\n",
      "        Row number(s) to use as the column names, and the start of the data.\n",
      "        Default behavior is as if set to 0 if no ``names`` passed, otherwise\n",
      "        ``None``. Explicitly pass ``header=0`` to be able to replace existing\n",
      "        names. The header can be a list of integers that specify row locations for\n",
      "        a multi-index on the columns e.g. [0,1,3]. Intervening rows that are not\n",
      "        specified will be skipped (e.g. 2 in this example is skipped). Note that\n",
      "        this parameter ignores commented lines and empty lines if\n",
      "        ``skip_blank_lines=True``, so header=0 denotes the first line of data\n",
      "        rather than the first line of the file.\n",
      "    names : array-like, default None\n",
      "        List of column names to use. If file contains no header row, then you\n",
      "        should explicitly pass header=None\n",
      "    index_col : int or sequence or False, default None\n",
      "        Column to use as the row labels of the DataFrame. If a sequence is given, a\n",
      "        MultiIndex is used. If you have a malformed file with delimiters at the end\n",
      "        of each line, you might consider index_col=False to force pandas to _not_\n",
      "        use the first column as the index (row names)\n",
      "    usecols : array-like, default None\n",
      "        Return a subset of the columns.\n",
      "        Results in much faster parsing time and lower memory usage.\n",
      "    squeeze : boolean, default False\n",
      "        If the parsed data only contains one column then return a Series\n",
      "    prefix : str, default None\n",
      "        Prefix to add to column numbers when no header, e.g. 'X' for X0, X1, ...\n",
      "    mangle_dupe_cols : boolean, default True\n",
      "        Duplicate columns will be specified as 'X.0'...'X.N', rather than 'X'...'X'\n",
      "    dtype : Type name or dict of column -> type, default None\n",
      "        Data type for data or columns. E.g. {'a': np.float64, 'b': np.int32}\n",
      "        (Unsupported with engine='python'). Use `str` or `object` to preserve and\n",
      "        not interpret dtype.\n",
      "    engine : {'c', 'python'}, optional\n",
      "        Parser engine to use. The C engine is faster while the python engine is\n",
      "        currently more feature-complete.\n",
      "    converters : dict, default None\n",
      "        Dict of functions for converting values in certain columns. Keys can either\n",
      "        be integers or column labels\n",
      "    true_values : list, default None\n",
      "        Values to consider as True\n",
      "    false_values : list, default None\n",
      "        Values to consider as False\n",
      "    skipinitialspace : boolean, default False\n",
      "        Skip spaces after delimiter.\n",
      "    skiprows : list-like or integer, default None\n",
      "        Line numbers to skip (0-indexed) or number of lines to skip (int)\n",
      "        at the start of the file\n",
      "    skipfooter : int, default 0\n",
      "        Number of lines at bottom of file to skip (Unsupported with engine='c')\n",
      "    nrows : int, default None\n",
      "        Number of rows of file to read. Useful for reading pieces of large files\n",
      "    na_values : str or list-like or dict, default None\n",
      "        Additional strings to recognize as NA/NaN. If dict passed, specific\n",
      "        per-column NA values.  By default the following values are interpreted as\n",
      "        NaN: `''`, `'#N/A'`, `'#N/A N/A'`, `'#NA'`, `'-1.#IND'`, `'-1.#QNAN'`, `'-NaN'`, `'-nan'`, `'1.#IND'`, `'1.#QNAN'`, `'N/A'`, `'NA'`, `'NULL'`, `'NaN'`, `'nan'`.\n",
      "    keep_default_na : bool, default True\n",
      "        If na_values are specified and keep_default_na is False the default NaN\n",
      "        values are overridden, otherwise they're appended to.\n",
      "    na_filter : boolean, default True\n",
      "        Detect missing value markers (empty strings and the value of na_values). In\n",
      "        data without any NAs, passing na_filter=False can improve the performance\n",
      "        of reading a large file\n",
      "    verbose : boolean, default False\n",
      "        Indicate number of NA values placed in non-numeric columns\n",
      "    skip_blank_lines : boolean, default True\n",
      "        If True, skip over blank lines rather than interpreting as NaN values\n",
      "    parse_dates : boolean or list of ints or names or list of lists or dict, default False\n",
      "    \n",
      "        * boolean. If True -> try parsing the index.\n",
      "        * list of ints or names. e.g. If [1, 2, 3] -> try parsing columns 1, 2, 3\n",
      "          each as a separate date column.\n",
      "        * list of lists. e.g.  If [[1, 3]] -> combine columns 1 and 3 and parse as\n",
      "            a single date column.\n",
      "        * dict, e.g. {'foo' : [1, 3]} -> parse columns 1, 3 as date and call result\n",
      "          'foo'\n",
      "    \n",
      "        Note: A fast-path exists for iso8601-formatted dates.\n",
      "    infer_datetime_format : boolean, default False\n",
      "        If True and parse_dates is enabled for a column, attempt to infer\n",
      "        the datetime format to speed up the processing\n",
      "    keep_date_col : boolean, default False\n",
      "        If True and parse_dates specifies combining multiple columns then\n",
      "        keep the original columns.\n",
      "    date_parser : function, default None\n",
      "        Function to use for converting a sequence of string columns to an array of\n",
      "        datetime instances. The default uses ``dateutil.parser.parser`` to do the\n",
      "        conversion. Pandas will try to call date_parser in three different ways,\n",
      "        advancing to the next if an exception occurs: 1) Pass one or more arrays\n",
      "        (as defined by parse_dates) as arguments; 2) concatenate (row-wise) the\n",
      "        string values from the columns defined by parse_dates into a single array\n",
      "        and pass that; and 3) call date_parser once for each row using one or more\n",
      "        strings (corresponding to the columns defined by parse_dates) as arguments.\n",
      "    dayfirst : boolean, default False\n",
      "        DD/MM format dates, international and European format\n",
      "    iterator : boolean, default False\n",
      "        Return TextFileReader object for iteration or getting chunks with\n",
      "        ``get_chunk()``.\n",
      "    chunksize : int, default None\n",
      "        Return TextFileReader object for iteration. `See IO Tools docs for more\n",
      "        information\n",
      "        <http://pandas.pydata.org/pandas-docs/stable/io.html#io-chunking>`_ on\n",
      "        ``iterator`` and ``chunksize``.\n",
      "    compression : {'infer', 'gzip', 'bz2', None}, default 'infer'\n",
      "        For on-the-fly decompression of on-disk data. If 'infer', then use gzip or\n",
      "        bz2 if filepath_or_buffer is a string ending in '.gz' or '.bz2',\n",
      "        respectively, and no decompression otherwise. Set to None for no\n",
      "        decompression.\n",
      "    thousands : str, default None\n",
      "        Thousands separator\n",
      "    decimal : str, default '.'\n",
      "        Character to recognize as decimal point (e.g. use ',' for European data).\n",
      "    lineterminator : str (length 1), default None\n",
      "        Character to break file into lines. Only valid with C parser.\n",
      "    quotechar : str (length 1), optional\n",
      "        The character used to denote the start and end of a quoted item. Quoted\n",
      "        items can include the delimiter and it will be ignored.\n",
      "    quoting : int or csv.QUOTE_* instance, default None\n",
      "        Control field quoting behavior per ``csv.QUOTE_*`` constants. Use one of\n",
      "        QUOTE_MINIMAL (0), QUOTE_ALL (1), QUOTE_NONNUMERIC (2) or QUOTE_NONE (3).\n",
      "        Default (None) results in QUOTE_MINIMAL behavior.\n",
      "    escapechar : str (length 1), default None\n",
      "        One-character string used to escape delimiter when quoting is QUOTE_NONE.\n",
      "    comment : str, default None\n",
      "        Indicates remainder of line should not be parsed. If found at the beginning\n",
      "        of a line, the line will be ignored altogether. This parameter must be a\n",
      "        single character. Like empty lines (as long as ``skip_blank_lines=True``),\n",
      "        fully commented lines are ignored by the parameter `header` but not by\n",
      "        `skiprows`. For example, if comment='#', parsing '#empty\\na,b,c\\n1,2,3'\n",
      "        with `header=0` will result in 'a,b,c' being\n",
      "        treated as the header.\n",
      "    encoding : str, default None\n",
      "        Encoding to use for UTF when reading/writing (ex. 'utf-8'). `List of Python\n",
      "        standard encodings\n",
      "        <https://docs.python.org/3/library/codecs.html#standard-encodings>`_\n",
      "    dialect : str or csv.Dialect instance, default None\n",
      "        If None defaults to Excel dialect. Ignored if sep longer than 1 char\n",
      "        See csv.Dialect documentation for more details\n",
      "    tupleize_cols : boolean, default False\n",
      "        Leave a list of tuples on columns as is (default is to convert to\n",
      "        a Multi Index on the columns)\n",
      "    error_bad_lines : boolean, default True\n",
      "        Lines with too many fields (e.g. a csv line with too many commas) will by\n",
      "        default cause an exception to be raised, and no DataFrame will be returned.\n",
      "        If False, then these \"bad lines\" will dropped from the DataFrame that is\n",
      "        returned. (Only valid with C parser)\n",
      "    warn_bad_lines : boolean, default True\n",
      "        If error_bad_lines is False, and warn_bad_lines is True, a warning for each\n",
      "        \"bad line\" will be output. (Only valid with C parser).\n",
      "    \n",
      "    Returns\n",
      "    -------\n",
      "    result : DataFrame or TextParser\n",
      "\n"
     ]
    }
   ],
   "source": [
    "help(pd.read_csv)"
   ]
  },
  {
   "cell_type": "markdown",
   "metadata": {},
   "source": [
    "Con unas pocas líneas de código hemos conseguido leer un fichero de datos separado por espacios, hemos conseguido leer dos columnas y transformarlas a fechas (de forma mágica), hemos conseguido indicar que esas fechas se consideren el índice (solo puede haber un registro en cada momento),...\n",
    "\n",
    "# ¡¡Warning!! índices repetidos\n",
    "\n",
    "<br>\n",
    "<div class=\"alert alert-danger\">\n",
    "<h3>Nota:</h3>\n",
    "<p>Nada impide tener dos índices repetidos. Tened cuidado con esto ya que puede ser una fuente de errores.</p>\n",
    "</div>"
   ]
  },
  {
   "cell_type": "code",
   "execution_count": 12,
   "metadata": {
    "collapsed": false
   },
   "outputs": [],
   "source": [
    "tmp = pd.DataFrame([1,10,100, 1000], index = [1,1,2,2], columns = ['values'])"
   ]
  },
  {
   "cell_type": "code",
   "execution_count": 13,
   "metadata": {
    "collapsed": false
   },
   "outputs": [
    {
     "data": {
      "text/html": [
       "<div>\n",
       "<table border=\"1\" class=\"dataframe\">\n",
       "  <thead>\n",
       "    <tr style=\"text-align: right;\">\n",
       "      <th></th>\n",
       "      <th>values</th>\n",
       "    </tr>\n",
       "  </thead>\n",
       "  <tbody>\n",
       "    <tr>\n",
       "      <th>1</th>\n",
       "      <td>1</td>\n",
       "    </tr>\n",
       "    <tr>\n",
       "      <th>1</th>\n",
       "      <td>10</td>\n",
       "    </tr>\n",
       "    <tr>\n",
       "      <th>2</th>\n",
       "      <td>100</td>\n",
       "    </tr>\n",
       "    <tr>\n",
       "      <th>2</th>\n",
       "      <td>1000</td>\n",
       "    </tr>\n",
       "  </tbody>\n",
       "</table>\n",
       "</div>"
      ],
      "text/plain": [
       "   values\n",
       "1       1\n",
       "1      10\n",
       "2     100\n",
       "2    1000"
      ]
     },
     "execution_count": 13,
     "metadata": {},
     "output_type": "execute_result"
    }
   ],
   "source": [
    "tmp"
   ]
  },
  {
   "cell_type": "code",
   "execution_count": 14,
   "metadata": {
    "collapsed": false
   },
   "outputs": [
    {
     "name": "stdout",
     "output_type": "stream",
     "text": [
      "1     1\n",
      "1    10\n",
      "Name: values, dtype: int64\n",
      "2     100\n",
      "2    1000\n",
      "Name: values, dtype: int64\n"
     ]
    }
   ],
   "source": [
    "print(tmp['values'][1], tmp['values'][2], sep = '\\n')"
   ]
  },
  {
   "cell_type": "markdown",
   "metadata": {},
   "source": [
    "# ¡¡Warning!! cuando hagamos conversión de fechas desde *strings*\n",
    "\n",
    "<br>\n",
    "<div class=\"alert alert-danger\">\n",
    "<h3>Nota:</h3>\n",
    "<p>Si dejáis que pandas *parsee* las fechas escribid tests para ello pues puede haber errores en la conversión <b>automágica</b>.</p>\n",
    "</div>"
   ]
  },
  {
   "cell_type": "code",
   "execution_count": 15,
   "metadata": {
    "collapsed": false
   },
   "outputs": [],
   "source": [
    "# Ejemplo de error en fechas:\n",
    "\n",
    "index = [\n",
    "    '01/01/2015 00:00',\n",
    "    '02/01/2015 00:00',\n",
    "    '03/01/2015 00:00',\n",
    "    '04/01/2015 00:00',\n",
    "    '05/01/2015 00:00',\n",
    "    '06/01/2015 00:00',\n",
    "    '07/01/2015 00:00',\n",
    "    '08/01/2015 00:00',\n",
    "    '09/01/2015 00:00',\n",
    "    '10/01/2015 00:00',\n",
    "    '11/01/2015 00:00',\n",
    "    '12/01/2015 00:00',\n",
    "    '13/01/2015 00:00',\n",
    "    '14/01/2015 00:00',\n",
    "    '15/01/2015 00:00'\n",
    "]\n",
    "values = np.random.randn(len(index))\n",
    "\n",
    "tmp = pd.DataFrame(values, index = pd.to_datetime(index), columns = ['col1'])"
   ]
  },
  {
   "cell_type": "code",
   "execution_count": 16,
   "metadata": {
    "collapsed": false
   },
   "outputs": [
    {
     "data": {
      "text/html": [
       "<div>\n",
       "<table border=\"1\" class=\"dataframe\">\n",
       "  <thead>\n",
       "    <tr style=\"text-align: right;\">\n",
       "      <th></th>\n",
       "      <th>col1</th>\n",
       "    </tr>\n",
       "  </thead>\n",
       "  <tbody>\n",
       "    <tr>\n",
       "      <th>2015-01-01</th>\n",
       "      <td>1.711776</td>\n",
       "    </tr>\n",
       "    <tr>\n",
       "      <th>2015-02-01</th>\n",
       "      <td>0.766328</td>\n",
       "    </tr>\n",
       "    <tr>\n",
       "      <th>2015-03-01</th>\n",
       "      <td>0.090166</td>\n",
       "    </tr>\n",
       "    <tr>\n",
       "      <th>2015-04-01</th>\n",
       "      <td>-1.139776</td>\n",
       "    </tr>\n",
       "    <tr>\n",
       "      <th>2015-05-01</th>\n",
       "      <td>-1.753854</td>\n",
       "    </tr>\n",
       "    <tr>\n",
       "      <th>2015-06-01</th>\n",
       "      <td>-0.363122</td>\n",
       "    </tr>\n",
       "    <tr>\n",
       "      <th>2015-07-01</th>\n",
       "      <td>0.925906</td>\n",
       "    </tr>\n",
       "    <tr>\n",
       "      <th>2015-08-01</th>\n",
       "      <td>-0.078060</td>\n",
       "    </tr>\n",
       "    <tr>\n",
       "      <th>2015-09-01</th>\n",
       "      <td>0.770770</td>\n",
       "    </tr>\n",
       "    <tr>\n",
       "      <th>2015-10-01</th>\n",
       "      <td>1.057998</td>\n",
       "    </tr>\n",
       "    <tr>\n",
       "      <th>2015-11-01</th>\n",
       "      <td>-0.022216</td>\n",
       "    </tr>\n",
       "    <tr>\n",
       "      <th>2015-12-01</th>\n",
       "      <td>0.588708</td>\n",
       "    </tr>\n",
       "    <tr>\n",
       "      <th>2015-01-13</th>\n",
       "      <td>0.515588</td>\n",
       "    </tr>\n",
       "    <tr>\n",
       "      <th>2015-01-14</th>\n",
       "      <td>0.738912</td>\n",
       "    </tr>\n",
       "    <tr>\n",
       "      <th>2015-01-15</th>\n",
       "      <td>-0.977176</td>\n",
       "    </tr>\n",
       "  </tbody>\n",
       "</table>\n",
       "</div>"
      ],
      "text/plain": [
       "                col1\n",
       "2015-01-01  1.711776\n",
       "2015-02-01  0.766328\n",
       "2015-03-01  0.090166\n",
       "2015-04-01 -1.139776\n",
       "2015-05-01 -1.753854\n",
       "2015-06-01 -0.363122\n",
       "2015-07-01  0.925906\n",
       "2015-08-01 -0.078060\n",
       "2015-09-01  0.770770\n",
       "2015-10-01  1.057998\n",
       "2015-11-01 -0.022216\n",
       "2015-12-01  0.588708\n",
       "2015-01-13  0.515588\n",
       "2015-01-14  0.738912\n",
       "2015-01-15 -0.977176"
      ]
     },
     "metadata": {},
     "output_type": "display_data"
    },
    {
     "data": {
      "text/plain": [
       "<matplotlib.axes._subplots.AxesSubplot at 0x7f5f11bc2470>"
      ]
     },
     "execution_count": 16,
     "metadata": {},
     "output_type": "execute_result"
    },
    {
     "data": {
      "image/png": "[encoded data removed]",
      "text/plain": [
       "<matplotlib.figure.Figure at 0x7f5f11bc2630>"
      ]
     },
     "metadata": {},
     "output_type": "display_data"
    }
   ],
   "source": [
    "display(tmp)\n",
    "tmp.plot.line(figsize = (12, 6))"
   ]
  },
  {
   "cell_type": "markdown",
   "metadata": {},
   "source": [
    "Para evitar lo anterior podemos crear nuestro propio parser de fechas a, por ejemplo, `pd.read_csv`:"
   ]
  },
  {
   "cell_type": "code",
   "execution_count": 17,
   "metadata": {
    "collapsed": false
   },
   "outputs": [],
   "source": [
    "import datetime as dt\n",
    "import io\n",
    "\n",
    "def dateparser(date):\n",
    "    date, time = date.split()\n",
    "    DD, MM, YY = date.split('/')\n",
    "    hh, mm = time.split(':')\n",
    "    return dt.datetime(int(YY), int(MM), int(DD), int(hh), int(mm))\n",
    "\n",
    "virtual_file = io.StringIO(\"\"\"01/01/2015 00:00, 1\n",
    "02/01/2015 00:00, 2\n",
    "03/01/2015 00:00, 3\n",
    "04/01/2015 00:00, 4\n",
    "05/01/2015 00:00, 5\n",
    "06/01/2015 00:00, 6\n",
    "07/01/2015 00:00, 7\n",
    "08/01/2015 00:00, 8\n",
    "09/01/2015 00:00, 9\n",
    "10/01/2015 00:00, 10\n",
    "11/01/2015 00:00, 11\n",
    "12/01/2015 00:00, 12\n",
    "13/01/2015 00:00, 13\n",
    "14/01/2015 00:00, 14\n",
    "15/01/2015 00:00, 15\n",
    "\"\"\")\n",
    "\n",
    "tmp_wrong = pd.read_csv(virtual_file, parse_dates = [0], index_col = 0, names = ['Date', 'values'])\n",
    "\n",
    "virtual_file = io.StringIO(\"\"\"01/01/2015 00:00, 1\n",
    "02/01/2015 00:00, 2\n",
    "03/01/2015 00:00, 3\n",
    "04/01/2015 00:00, 4\n",
    "05/01/2015 00:00, 5\n",
    "06/01/2015 00:00, 6\n",
    "07/01/2015 00:00, 7\n",
    "08/01/2015 00:00, 8\n",
    "09/01/2015 00:00, 9\n",
    "10/01/2015 00:00, 10\n",
    "11/01/2015 00:00, 11\n",
    "12/01/2015 00:00, 12\n",
    "13/01/2015 00:00, 13\n",
    "14/01/2015 00:00, 14\n",
    "15/01/2015 00:00, 15\n",
    "\"\"\")\n",
    "\n",
    "tmp_right = pd.read_csv(virtual_file, parse_dates = True, index_col = 0, names = ['Date', 'values'],\n",
    "                        date_parser = dateparser)"
   ]
  },
  {
   "cell_type": "code",
   "execution_count": 18,
   "metadata": {
    "collapsed": false
   },
   "outputs": [
    {
     "data": {
      "text/html": [
       "<div>\n",
       "<table border=\"1\" class=\"dataframe\">\n",
       "  <thead>\n",
       "    <tr style=\"text-align: right;\">\n",
       "      <th></th>\n",
       "      <th>values</th>\n",
       "    </tr>\n",
       "    <tr>\n",
       "      <th>Date</th>\n",
       "      <th></th>\n",
       "    </tr>\n",
       "  </thead>\n",
       "  <tbody>\n",
       "    <tr>\n",
       "      <th>2015-01-01</th>\n",
       "      <td>1</td>\n",
       "    </tr>\n",
       "    <tr>\n",
       "      <th>2015-02-01</th>\n",
       "      <td>2</td>\n",
       "    </tr>\n",
       "    <tr>\n",
       "      <th>2015-03-01</th>\n",
       "      <td>3</td>\n",
       "    </tr>\n",
       "    <tr>\n",
       "      <th>2015-04-01</th>\n",
       "      <td>4</td>\n",
       "    </tr>\n",
       "    <tr>\n",
       "      <th>2015-05-01</th>\n",
       "      <td>5</td>\n",
       "    </tr>\n",
       "    <tr>\n",
       "      <th>2015-06-01</th>\n",
       "      <td>6</td>\n",
       "    </tr>\n",
       "    <tr>\n",
       "      <th>2015-07-01</th>\n",
       "      <td>7</td>\n",
       "    </tr>\n",
       "    <tr>\n",
       "      <th>2015-08-01</th>\n",
       "      <td>8</td>\n",
       "    </tr>\n",
       "    <tr>\n",
       "      <th>2015-09-01</th>\n",
       "      <td>9</td>\n",
       "    </tr>\n",
       "    <tr>\n",
       "      <th>2015-10-01</th>\n",
       "      <td>10</td>\n",
       "    </tr>\n",
       "    <tr>\n",
       "      <th>2015-11-01</th>\n",
       "      <td>11</td>\n",
       "    </tr>\n",
       "    <tr>\n",
       "      <th>2015-12-01</th>\n",
       "      <td>12</td>\n",
       "    </tr>\n",
       "    <tr>\n",
       "      <th>2015-01-13</th>\n",
       "      <td>13</td>\n",
       "    </tr>\n",
       "    <tr>\n",
       "      <th>2015-01-14</th>\n",
       "      <td>14</td>\n",
       "    </tr>\n",
       "    <tr>\n",
       "      <th>2015-01-15</th>\n",
       "      <td>15</td>\n",
       "    </tr>\n",
       "  </tbody>\n",
       "</table>\n",
       "</div>"
      ],
      "text/plain": [
       "            values\n",
       "Date              \n",
       "2015-01-01       1\n",
       "2015-02-01       2\n",
       "2015-03-01       3\n",
       "2015-04-01       4\n",
       "2015-05-01       5\n",
       "2015-06-01       6\n",
       "2015-07-01       7\n",
       "2015-08-01       8\n",
       "2015-09-01       9\n",
       "2015-10-01      10\n",
       "2015-11-01      11\n",
       "2015-12-01      12\n",
       "2015-01-13      13\n",
       "2015-01-14      14\n",
       "2015-01-15      15"
      ]
     },
     "metadata": {},
     "output_type": "display_data"
    },
    {
     "data": {
      "text/html": [
       "<div>\n",
       "<table border=\"1\" class=\"dataframe\">\n",
       "  <thead>\n",
       "    <tr style=\"text-align: right;\">\n",
       "      <th></th>\n",
       "      <th>values</th>\n",
       "    </tr>\n",
       "    <tr>\n",
       "      <th>Date</th>\n",
       "      <th></th>\n",
       "    </tr>\n",
       "  </thead>\n",
       "  <tbody>\n",
       "    <tr>\n",
       "      <th>2015-01-01</th>\n",
       "      <td>1</td>\n",
       "    </tr>\n",
       "    <tr>\n",
       "      <th>2015-01-02</th>\n",
       "      <td>2</td>\n",
       "    </tr>\n",
       "    <tr>\n",
       "      <th>2015-01-03</th>\n",
       "      <td>3</td>\n",
       "    </tr>\n",
       "    <tr>\n",
       "      <th>2015-01-04</th>\n",
       "      <td>4</td>\n",
       "    </tr>\n",
       "    <tr>\n",
       "      <th>2015-01-05</th>\n",
       "      <td>5</td>\n",
       "    </tr>\n",
       "    <tr>\n",
       "      <th>2015-01-06</th>\n",
       "      <td>6</td>\n",
       "    </tr>\n",
       "    <tr>\n",
       "      <th>2015-01-07</th>\n",
       "      <td>7</td>\n",
       "    </tr>\n",
       "    <tr>\n",
       "      <th>2015-01-08</th>\n",
       "      <td>8</td>\n",
       "    </tr>\n",
       "    <tr>\n",
       "      <th>2015-01-09</th>\n",
       "      <td>9</td>\n",
       "    </tr>\n",
       "    <tr>\n",
       "      <th>2015-01-10</th>\n",
       "      <td>10</td>\n",
       "    </tr>\n",
       "    <tr>\n",
       "      <th>2015-01-11</th>\n",
       "      <td>11</td>\n",
       "    </tr>\n",
       "    <tr>\n",
       "      <th>2015-01-12</th>\n",
       "      <td>12</td>\n",
       "    </tr>\n",
       "    <tr>\n",
       "      <th>2015-01-13</th>\n",
       "      <td>13</td>\n",
       "    </tr>\n",
       "    <tr>\n",
       "      <th>2015-01-14</th>\n",
       "      <td>14</td>\n",
       "    </tr>\n",
       "    <tr>\n",
       "      <th>2015-01-15</th>\n",
       "      <td>15</td>\n",
       "    </tr>\n",
       "  </tbody>\n",
       "</table>\n",
       "</div>"
      ],
      "text/plain": [
       "            values\n",
       "Date              \n",
       "2015-01-01       1\n",
       "2015-01-02       2\n",
       "2015-01-03       3\n",
       "2015-01-04       4\n",
       "2015-01-05       5\n",
       "2015-01-06       6\n",
       "2015-01-07       7\n",
       "2015-01-08       8\n",
       "2015-01-09       9\n",
       "2015-01-10      10\n",
       "2015-01-11      11\n",
       "2015-01-12      12\n",
       "2015-01-13      13\n",
       "2015-01-14      14\n",
       "2015-01-15      15"
      ]
     },
     "metadata": {},
     "output_type": "display_data"
    }
   ],
   "source": [
    "display(tmp_wrong)\n",
    "display(tmp_right)"
   ]
  },
  {
   "cell_type": "markdown",
   "metadata": {},
   "source": [
    "# Vamos a salvar el resultado en formato csv"
   ]
  },
  {
   "cell_type": "code",
   "execution_count": 29,
   "metadata": {
    "collapsed": true
   },
   "outputs": [],
   "source": [
    "opath = os.path.join('Datos', 'mast_2.csv')\n",
    "#wind.to_csv(opath)\n",
    "wind.iloc[0:100].to_csv(opath)"
   ]
  },
  {
   "cell_type": "markdown",
   "metadata": {},
   "source": [
    "# ... o en formato json"
   ]
  },
  {
   "cell_type": "code",
   "execution_count": 30,
   "metadata": {
    "collapsed": true
   },
   "outputs": [],
   "source": [
    "#wind.to_json(opath.replace('csv', 'json'))\n",
    "wind.iloc[0:100].to_json(opath.replace('csv', 'json'))"
   ]
  },
  {
   "cell_type": "markdown",
   "metadata": {},
   "source": [
    "# ... o en una tabla HTML"
   ]
  },
  {
   "cell_type": "code",
   "execution_count": 31,
   "metadata": {
    "collapsed": false
   },
   "outputs": [],
   "source": [
    "# Si son muchos datos no os lo recomiendo, es lento\n",
    "#wind.to_html(opath.replace('csv', 'html'))\n",
    "wind.iloc[0:100].to_html(opath.replace('csv', 'html'))"
   ]
  },
  {
   "cell_type": "markdown",
   "metadata": {},
   "source": [
    "# ... o en formato xlsx\n",
    "\n",
    "Seguramente debáis instalar `xlsxwriter`, `openpyxl`, `wlrd/xlwt`,..."
   ]
  },
  {
   "cell_type": "code",
   "execution_count": 32,
   "metadata": {
    "collapsed": false
   },
   "outputs": [],
   "source": [
    "writer = pd.ExcelWriter(opath.replace('csv', 'xlsx'))\n",
    "#wind.to_excel(writer, sheet_name= \"Mi hoja 1\")\n",
    "wind.iloc[0:100].to_excel(writer, sheet_name= \"Mi hoja 1\")\n",
    "writer.save()"
   ]
  },
  {
   "cell_type": "code",
   "execution_count": null,
   "metadata": {
    "collapsed": true
   },
   "outputs": [],
   "source": [
    "# Ahora que tenemos los ficheros en formato json, html, xlsx,..., podéis practicar a abrirlos con las\n",
    "# funciones pd.read_*\n"
   ]
  }
 ],
 "metadata": {
  "kernelspec": {
   "display_name": "Python 3",
   "language": "python",
   "name": "python3"
  },
  "language_info": {
   "codemirror_mode": {
    "name": "ipython",
    "version": 3
   },
   "file_extension": ".py",
   "mimetype": "text/x-python",
   "name": "python",
   "nbconvert_exporter": "python",
   "pygments_lexer": "ipython3",
   "version": "3.5.1"
  }
 },
 "nbformat": 4,
 "nbformat_minor": 0
}
